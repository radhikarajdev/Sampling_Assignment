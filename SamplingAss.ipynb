{
 "cells": [
  {
   "cell_type": "code",
   "execution_count": 1,
   "id": "485e8011-be45-4939-a23f-ac9a5b870bf9",
   "metadata": {},
   "outputs": [],
   "source": [
    "import pandas as pd\n",
    "import numpy as np\n",
    "from sklearn.model_selection import train_test_split, StratifiedKFold\n",
    "from sklearn.linear_model import LogisticRegression\n",
    "from sklearn.ensemble import RandomForestClassifier\n",
    "from sklearn.svm import SVC\n",
    "from sklearn.ensemble import GradientBoostingClassifier\n",
    "from sklearn.neural_network import MLPClassifier\n",
    "from sklearn.metrics import accuracy_score\n",
    "from imblearn.over_sampling import SMOTE\n",
    "from imblearn.under_sampling import RandomUnderSampler\n",
    "from sklearn.utils import resample"
   ]
  },
  {
   "cell_type": "code",
   "execution_count": 2,
   "id": "11037f7c-4c89-4814-b414-6dc4aa6da643",
   "metadata": {},
   "outputs": [],
   "source": [
    "# Step 1: Load the dataset\n",
    "file_path = \"/Users/radhikarajdev/Downloads/Creditcard_data.csv\"\n",
    "data = pd.read_csv(file_path)\n",
    "X = data.drop(\"Class\", axis=1)\n",
    "y = data[\"Class\"]"
   ]
  },
  {
   "cell_type": "code",
   "execution_count": 3,
   "id": "8fb8c645-2c48-4568-8ee8-9ddaa88be520",
   "metadata": {},
   "outputs": [],
   "source": [
    "# Step 2: Balance the dataset using SMOTE (oversampling)\n",
    "smote = SMOTE(random_state=42)\n",
    "X_balanced, y_balanced = smote.fit_resample(X, y)"
   ]
  },
  {
   "cell_type": "code",
   "execution_count": 4,
   "id": "6eec03f7-2f95-4fb7-8b0b-44e6b9dadbba",
   "metadata": {},
   "outputs": [],
   "source": [
    "# Step 3: Sample size calculation\n",
    "def calculate_sample_size(Z, p, E, total_population=None, sampling_type=None, **kwargs):\n",
    "    \"\"\"\n",
    "    Calculate sample size for different sampling techniques.\n",
    "    \"\"\"\n",
    "    n = (Z**2 * p * (1 - p)) / (E**2)  # Base calculation\n",
    "    if total_population:  # Adjust for finite population\n",
    "        n = n / (1 + (n - 1) / total_population)\n",
    "    if sampling_type == \"stratified\":\n",
    "        strata_count = kwargs.get(\"strata_count\", 1)\n",
    "        n *= strata_count\n",
    "    elif sampling_type == \"cluster\":\n",
    "        cluster_count = kwargs.get(\"cluster_count\", 1)\n",
    "        n /= cluster_count\n",
    "    return int(np.ceil(n))\n",
    "\n",
    "# Parameters for sample size calculation\n",
    "Z = 1.96  # Z-score for 95% confidence\n",
    "p = 0.5   # Proportion of the population\n",
    "E = 0.05  # Margin of error\n",
    "total_population = len(X)  # Total population size\n",
    "\n",
    "# Calculate sample sizes for each sampling method\n",
    "sample_size_srs = calculate_sample_size(Z, p, E, total_population)\n",
    "step_size = total_population // sample_size_srs\n",
    "sample_size_stratified = calculate_sample_size(Z, p, E, total_population, sampling_type=\"stratified\", strata_count=3)\n",
    "sample_size_cluster = calculate_sample_size(Z, p, E, total_population, sampling_type=\"cluster\", cluster_count=5)\n",
    "sample_size_undersampling = calculate_sample_size(Z, p, E, total_population=min(y.value_counts()))"
   ]
  },
  {
   "cell_type": "code",
   "execution_count": 5,
   "id": "894f0dbb-9608-4e2f-a0c3-7c84272fa7a4",
   "metadata": {},
   "outputs": [],
   "source": [
    "# Step 4: Sampling methods\n",
    "def simple_random_sampling(X, y, n):\n",
    "    return resample(pd.concat([X, y], axis=1), n_samples=n, random_state=42)\n",
    "\n",
    "def systematic_sampling(X, y, step):\n",
    "    data_combined = pd.concat([X, y], axis=1)\n",
    "    return data_combined.iloc[::step, :]\n",
    "\n",
    "def stratified_sampling(X, y, n):\n",
    "    skf = StratifiedKFold(n_splits=10, shuffle=True, random_state=42)\n",
    "    for train_index, _ in skf.split(X, y):\n",
    "        stratified_sample = pd.concat([X.iloc[train_index], y.iloc[train_index]], axis=1)\n",
    "        return stratified_sample.sample(n=n, random_state=42)\n",
    "\n",
    "def cluster_sampling(X, y, n_clusters, n_samples_per_cluster):\n",
    "    data_combined = pd.concat([X, y], axis=1)\n",
    "    data_combined[\"Cluster\"] = np.random.randint(0, n_clusters, data_combined.shape[0])\n",
    "    sampled_clusters = data_combined[data_combined[\"Cluster\"].isin(range(n_clusters))]\n",
    "    return sampled_clusters.sample(n=n_samples_per_cluster, random_state=42)\n",
    "\n",
    "def undersampling(X, y, n):\n",
    "    under_sampler = RandomUnderSampler(random_state=42)\n",
    "    X_under, y_under = under_sampler.fit_resample(X, y)\n",
    "    return pd.concat([X_under, y_under], axis=1).sample(n=n, random_state=42)"
   ]
  },
  {
   "cell_type": "code",
   "execution_count": 6,
   "id": "818b419c-63aa-437b-b3f1-2b19e36fa331",
   "metadata": {},
   "outputs": [],
   "source": [
    "# Step 5: Apply ML Models\n",
    "def evaluate_models(X_train, X_test, y_train, y_test):\n",
    "    results = {}\n",
    "    models = {\n",
    "        \"Logistic Regression\": LogisticRegression(max_iter=1000),\n",
    "        \"Random Forest\": RandomForestClassifier(random_state=42),\n",
    "        \"SVM\": SVC(),\n",
    "        \"Gradient Boosting\": GradientBoostingClassifier(),\n",
    "        \"Neural Network\": MLPClassifier(max_iter=1000)\n",
    "    }\n",
    "    for name, model in models.items():\n",
    "        model.fit(X_train, y_train)\n",
    "        y_pred = model.predict(X_test)\n",
    "        results[name] = accuracy_score(y_test, y_pred)\n",
    "    return results"
   ]
  },
  {
   "cell_type": "code",
   "execution_count": 7,
   "id": "ce93056a-a730-4b4d-b466-31d7ee37883e",
   "metadata": {},
   "outputs": [],
   "source": [
    "samples = {\n",
    "    \"Sampling1\": simple_random_sampling(X_balanced, y_balanced, sample_size_srs),\n",
    "    \"Sampling2\": systematic_sampling(X_balanced, y_balanced, step=step_size),\n",
    "    \"Sampling3\": stratified_sampling(X_balanced, y_balanced, n=sample_size_stratified),\n",
    "    \"Sampling4\": cluster_sampling(X_balanced, y_balanced, n_clusters=5, n_samples_per_cluster=sample_size_cluster),\n",
    "    \"Sampling5\": undersampling(X_balanced, y_balanced, n=sample_size_undersampling),\n",
    "}"
   ]
  },
  {
   "cell_type": "code",
   "execution_count": 8,
   "id": "76b5c20a-bfcc-4504-ac84-98f58c3e081a",
   "metadata": {},
   "outputs": [
    {
     "name": "stdout",
     "output_type": "stream",
     "text": [
      "Top Models for Each Sampling Method:\n",
      "  Sampling Method            Top Model  Accuracy\n",
      "0       Sampling1        Random Forest  0.987179\n",
      "1       Sampling2        Random Forest  0.993464\n",
      "2       Sampling3        Random Forest  1.000000\n",
      "3       Sampling4  Logistic Regression  0.937500\n",
      "4       Sampling5       Neural Network  1.000000\n"
     ]
    }
   ],
   "source": [
    "# Store results in a DataFrame\n",
    "all_results = []\n",
    "top_models = []\n",
    "\n",
    "for method, sample in samples.items():\n",
    "    X_sample = sample.drop(\"Class\", axis=1)\n",
    "    y_sample = sample[\"Class\"]\n",
    "    X_train, X_test, y_train, y_test = train_test_split(X_sample, y_sample, test_size=0.3, random_state=42)\n",
    "    results = evaluate_models(X_train, X_test, y_train, y_test)\n",
    "    sorted_results = sorted(results.items(), key=lambda x: x[1], reverse=True)  # Sort by accuracy\n",
    "\n",
    "    # Append all results\n",
    "    for model, accuracy in sorted_results:\n",
    "        all_results.append({\"Sampling Method\": method, \"Model\": model, \"Accuracy\": accuracy})\n",
    "    \n",
    "    # Store top model for this sampling method\n",
    "    top_model, top_accuracy = sorted_results[0]\n",
    "    top_models.append({\"Sampling Method\": method, \"Top Model\": top_model, \"Accuracy\": top_accuracy})\n",
    "\n",
    "# Convert results to DataFrames\n",
    "results_df = pd.DataFrame(all_results)\n",
    "top_models_df = pd.DataFrame(top_models)\n",
    "\n",
    "# Save to CSV\n",
    "results_df.to_csv(\"sampling_results.csv\", index=False)\n",
    "top_models_df.to_csv(\"top_models.csv\", index=False)\n",
    "\n",
    "# Display top models\n",
    "print(\"Top Models for Each Sampling Method:\")\n",
    "print(top_models_df)"
   ]
  },
  {
   "cell_type": "code",
   "execution_count": null,
   "id": "5367c0dc-5abf-4069-bffe-8113b301d72c",
   "metadata": {},
   "outputs": [],
   "source": []
  }
 ],
 "metadata": {
  "kernelspec": {
   "display_name": "Python 3 (ipykernel)",
   "language": "python",
   "name": "python3"
  },
  "language_info": {
   "codemirror_mode": {
    "name": "ipython",
    "version": 3
   },
   "file_extension": ".py",
   "mimetype": "text/x-python",
   "name": "python",
   "nbconvert_exporter": "python",
   "pygments_lexer": "ipython3",
   "version": "3.11.7"
  }
 },
 "nbformat": 4,
 "nbformat_minor": 5
}
